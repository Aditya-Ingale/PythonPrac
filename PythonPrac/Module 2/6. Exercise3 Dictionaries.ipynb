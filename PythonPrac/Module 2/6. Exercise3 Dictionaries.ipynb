{
 "cells": [
  {
   "cell_type": "markdown",
   "id": "9cd24df9",
   "metadata": {},
   "source": [
    "## Quiz on Dictionaries\n",
    "\n",
    "#### You will need this dictionary for the next two questions:\n",
    "\n",
    "# Question sample dictionary\n",
    "\n",
    "soundtrack_dic = {\"The Bodyguard\":\"1992\", \"Saturday Night Fever\":\"1977\"}\n",
    "soundtrack_dic "
   ]
  },
  {
   "cell_type": "code",
   "execution_count": 1,
   "id": "c93438f2",
   "metadata": {},
   "outputs": [
    {
     "data": {
      "text/plain": [
       "{'The Bodyguard': '1992', 'Saturday Night Fever': '1977'}"
      ]
     },
     "execution_count": 1,
     "metadata": {},
     "output_type": "execute_result"
    }
   ],
   "source": [
    "# Question sample dictionary\n",
    "\n",
    "soundtrack_dic = {\"The Bodyguard\":\"1992\", \"Saturday Night Fever\":\"1977\"}\n",
    "soundtrack_dic "
   ]
  },
  {
   "cell_type": "markdown",
   "id": "bbfdac65",
   "metadata": {},
   "source": [
    "#### a) In the dictionary soundtrack_dic what are the keys ?"
   ]
  },
  {
   "cell_type": "code",
   "execution_count": 2,
   "id": "96df15c2",
   "metadata": {},
   "outputs": [
    {
     "data": {
      "text/plain": [
       "dict_keys(['The Bodyguard', 'Saturday Night Fever'])"
      ]
     },
     "execution_count": 2,
     "metadata": {},
     "output_type": "execute_result"
    }
   ],
   "source": [
    "soundtrack_dic.keys()"
   ]
  },
  {
   "cell_type": "markdown",
   "id": "eb797f0b",
   "metadata": {},
   "source": [
    "#### b) In the dictionary soundtrack_dic what are the values ?"
   ]
  },
  {
   "cell_type": "code",
   "execution_count": 4,
   "id": "cc4e98da",
   "metadata": {},
   "outputs": [
    {
     "data": {
      "text/plain": [
       "dict_values(['1992', '1977'])"
      ]
     },
     "execution_count": 4,
     "metadata": {},
     "output_type": "execute_result"
    }
   ],
   "source": [
    "soundtrack_dic.values()"
   ]
  },
  {
   "cell_type": "markdown",
   "id": "2793f5a9",
   "metadata": {},
   "source": [
    "#### You will need this dictionary for the following questions:\n",
    "\n",
    "The Albums **Back in Black, The Bodyguard** and **Thriller** have the following music recording sales in millions 50, 50 and 65 respectively:\n",
    "\n",
    "#### a) Create a dictionary album_sales_dict where the keys are the album name and the sales in millions are the values."
   ]
  },
  {
   "cell_type": "code",
   "execution_count": 6,
   "id": "15e50433",
   "metadata": {},
   "outputs": [],
   "source": [
    "album_sales_dict = {\"Back in Black\": 50, \"The Bodyguard\": 50, \"Thriller\": 65}"
   ]
  },
  {
   "cell_type": "markdown",
   "id": "8fd0b98e",
   "metadata": {},
   "source": [
    "#### b) Use the dictionary to find the total sales of **Thriller:**"
   ]
  },
  {
   "cell_type": "code",
   "execution_count": 8,
   "id": "bce0c049",
   "metadata": {},
   "outputs": [
    {
     "data": {
      "text/plain": [
       "65"
      ]
     },
     "execution_count": 8,
     "metadata": {},
     "output_type": "execute_result"
    }
   ],
   "source": [
    "album_sales_dict[\"Thriller\"]"
   ]
  },
  {
   "cell_type": "markdown",
   "id": "58af128b",
   "metadata": {},
   "source": [
    "#### c) Find the names of the albums from the dictionary using the method keys():"
   ]
  },
  {
   "cell_type": "code",
   "execution_count": 9,
   "id": "e0b596e2",
   "metadata": {},
   "outputs": [
    {
     "data": {
      "text/plain": [
       "dict_keys(['Back in Black', 'The Bodyguard', 'Thriller'])"
      ]
     },
     "execution_count": 9,
     "metadata": {},
     "output_type": "execute_result"
    }
   ],
   "source": [
    "album_sales_dict.keys()"
   ]
  },
  {
   "cell_type": "markdown",
   "id": "e4f4471e",
   "metadata": {},
   "source": [
    "#### d) Find the values of the recording sales from the dictionary using the method <code>values</code>:"
   ]
  },
  {
   "cell_type": "code",
   "execution_count": 10,
   "id": "b81c0373",
   "metadata": {},
   "outputs": [
    {
     "data": {
      "text/plain": [
       "dict_values([50, 50, 65])"
      ]
     },
     "execution_count": 10,
     "metadata": {},
     "output_type": "execute_result"
    }
   ],
   "source": [
    "album_sales_dict.values()"
   ]
  },
  {
   "cell_type": "markdown",
   "id": "b78cf97e",
   "metadata": {},
   "source": [
    "## Scenario:Inventory Store\n",
    "\n",
    "The inventory store scenario project utilizes a dictionary-based approach to develop a robust system for managing and tracking inventory in a retail store.\n",
    "#### Note:- You will be working with two product details.\n",
    "\n",
    "### Task-1 Create an empty dictionary\n",
    "First you need to create an empty dictionary, where you will be storing the product details."
   ]
  },
  {
   "cell_type": "code",
   "execution_count": 12,
   "id": "b8176579",
   "metadata": {},
   "outputs": [],
   "source": [
    "inventory = {}"
   ]
  },
  {
   "cell_type": "markdown",
   "id": "7efab8d8",
   "metadata": {},
   "source": [
    "### Task-2 Store the first product details in variable\n",
    "\n",
    "* Product Name= Mobile phone\n",
    "* Product Quantity= 5\n",
    "* Product price= 20000\n",
    "* Product Release Year= 2020"
   ]
  },
  {
   "cell_type": "code",
   "execution_count": 16,
   "id": "18cf6dd0",
   "metadata": {},
   "outputs": [],
   "source": [
    "ProductNo1 = \"Mobile phone\"\n",
    "ProductNo1_quantity= 5\n",
    "ProductNo1_price= 20000\n",
    "ProductNo1_releaseYear= 2020"
   ]
  },
  {
   "cell_type": "markdown",
   "id": "69189676",
   "metadata": {},
   "source": [
    "### Task-3 Add the details in inventory"
   ]
  },
  {
   "cell_type": "code",
   "execution_count": 17,
   "id": "d1c86f00",
   "metadata": {},
   "outputs": [],
   "source": [
    "inventory[\"ProductNo1\"]= ProductNo1\n",
    "inventory[\"ProductNo1_quantity\"]= ProductNo1_quantity\n",
    "inventory[\"ProductNo1_price\"]= ProductNo1_price\n",
    "inventory[\"ProductNo1_releaseYear\"]=ProductNo1_releaseYear"
   ]
  },
  {
   "cell_type": "markdown",
   "id": "917ccf02",
   "metadata": {},
   "source": [
    "### Task-4 Store the second product details in a variable.\n",
    "\n",
    "* Product Name= \"Laptop\"\n",
    "* Product Quantity= 10\n",
    "* Product price = 50000\n",
    "* Product Release Year= 2023"
   ]
  },
  {
   "cell_type": "code",
   "execution_count": 18,
   "id": "19b87323",
   "metadata": {},
   "outputs": [],
   "source": [
    "ProductNo2 = \"Laptop\"\n",
    "ProductNo2_quantity= 10\n",
    "ProductNo2_price= 50000\n",
    "ProductNo2_releaseYear= 2013"
   ]
  },
  {
   "cell_type": "markdown",
   "id": "c047877e",
   "metadata": {},
   "source": [
    "### Task-5 Add the item detail into the inventory."
   ]
  },
  {
   "cell_type": "code",
   "execution_count": 19,
   "id": "9bb1a633",
   "metadata": {},
   "outputs": [],
   "source": [
    "inventory[\"ProductNo2\"]= ProductNo2\n",
    "inventory[\"ProductNo2_quantity\"]= ProductNo2_quantity\n",
    "inventory[\"ProductNo2_price\"]= ProductNo2_price\n",
    "inventory[\"ProductNo2_releaseYear\"]=ProductNo2_releaseYear"
   ]
  },
  {
   "cell_type": "markdown",
   "id": "52509938",
   "metadata": {},
   "source": [
    "### Task-6 Display the Products present in the inventory\n",
    "Use print statement for displaying the products"
   ]
  },
  {
   "cell_type": "code",
   "execution_count": 20,
   "id": "0a2dd000",
   "metadata": {},
   "outputs": [
    {
     "name": "stdout",
     "output_type": "stream",
     "text": [
      "{'ProductNo1': 'Mobile phone', 'ProductNo1_quantity': 5, 'ProductNo1_price': 20000, 'ProductNo1_releaseYear': 2020, 'ProductNo2': 'Laptop', 'ProductNo2_quantity': 10, 'ProductNo2_price': 50000, 'ProductNo2_releaseYear': 2013}\n"
     ]
    }
   ],
   "source": [
    "print(inventory)"
   ]
  },
  {
   "cell_type": "markdown",
   "id": "0d7dd5a4",
   "metadata": {},
   "source": [
    "### Task-7 Check if `ProductNo1_releaseYear` and `ProductNo2_releaseYear` is in the inventory"
   ]
  },
  {
   "cell_type": "code",
   "execution_count": 24,
   "id": "9900faa0",
   "metadata": {},
   "outputs": [
    {
     "data": {
      "text/plain": [
       "True"
      ]
     },
     "execution_count": 24,
     "metadata": {},
     "output_type": "execute_result"
    }
   ],
   "source": [
    "\"ProductNo1_releaseYear\" in inventory\n",
    "\"ProductNo2_releaseYear\" in inventory"
   ]
  },
  {
   "cell_type": "markdown",
   "id": "1652d221",
   "metadata": {},
   "source": [
    "### Task-8 Delete release year of both the products from the inventory"
   ]
  },
  {
   "cell_type": "code",
   "execution_count": 25,
   "id": "31c812c9",
   "metadata": {},
   "outputs": [],
   "source": [
    "del(inventory[\"ProductNo1_releaseYear\"])\n",
    "del(inventory[\"ProductNo2_releaseYear\"])"
   ]
  }
 ],
 "metadata": {
  "kernelspec": {
   "display_name": "Python 3 (ipykernel)",
   "language": "python",
   "name": "python3"
  },
  "language_info": {
   "codemirror_mode": {
    "name": "ipython",
    "version": 3
   },
   "file_extension": ".py",
   "mimetype": "text/x-python",
   "name": "python",
   "nbconvert_exporter": "python",
   "pygments_lexer": "ipython3",
   "version": "3.9.13"
  }
 },
 "nbformat": 4,
 "nbformat_minor": 5
}
