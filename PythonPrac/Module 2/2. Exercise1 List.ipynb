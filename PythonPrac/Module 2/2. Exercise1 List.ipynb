{
 "cells": [
  {
   "cell_type": "markdown",
   "id": "4512b38b",
   "metadata": {},
   "source": [
    "#### Create a list a_list, with the following elements 1, hello, [1,2,3] and True."
   ]
  },
  {
   "cell_type": "code",
   "execution_count": 4,
   "id": "d522c051",
   "metadata": {},
   "outputs": [
    {
     "data": {
      "text/plain": [
       "[1, 'hello', [1, 2, 3], True]"
      ]
     },
     "execution_count": 4,
     "metadata": {},
     "output_type": "execute_result"
    }
   ],
   "source": [
    "a_list = [1, \"hello\", [1,2,3], True]\n",
    "a_list"
   ]
  },
  {
   "cell_type": "markdown",
   "id": "3d06e105",
   "metadata": {},
   "source": [
    "#### Find the value stored at index 1 of a_list."
   ]
  },
  {
   "cell_type": "code",
   "execution_count": 5,
   "id": "54d60a85",
   "metadata": {},
   "outputs": [
    {
     "data": {
      "text/plain": [
       "'hello'"
      ]
     },
     "execution_count": 5,
     "metadata": {},
     "output_type": "execute_result"
    }
   ],
   "source": [
    "a_list[1]"
   ]
  },
  {
   "cell_type": "markdown",
   "id": "51d0cc9c",
   "metadata": {},
   "source": [
    "#### Retrieve the elements stored at index 1, 2 and 3 of a_list."
   ]
  },
  {
   "cell_type": "code",
   "execution_count": 10,
   "id": "50ec98b5",
   "metadata": {},
   "outputs": [
    {
     "data": {
      "text/plain": [
       "['hello', [1, 2, 3], True]"
      ]
     },
     "execution_count": 10,
     "metadata": {},
     "output_type": "execute_result"
    }
   ],
   "source": [
    "a_list[1:4]"
   ]
  },
  {
   "cell_type": "markdown",
   "id": "5b20f077",
   "metadata": {},
   "source": [
    "#### Concatenate the following lists A = [1, 'a'] and B = [2, 1, 'd']:"
   ]
  },
  {
   "cell_type": "code",
   "execution_count": 11,
   "id": "83dd00e4",
   "metadata": {},
   "outputs": [
    {
     "data": {
      "text/plain": [
       "[1, 'a', 2, 1, 'd']"
      ]
     },
     "execution_count": 11,
     "metadata": {},
     "output_type": "execute_result"
    }
   ],
   "source": [
    "A = [1, 'a']\n",
    "B = [2, 1, 'd']\n",
    "A + B"
   ]
  },
  {
   "cell_type": "markdown",
   "id": "eb9d149f",
   "metadata": {},
   "source": [
    "# Scenario : Shopping list\n",
    "## Task-1 Create an empty list\n",
    "\n",
    "At first we need to create a empty list for storing the items to buy in Shopping list."
   ]
  },
  {
   "cell_type": "code",
   "execution_count": 12,
   "id": "5edd79b4",
   "metadata": {},
   "outputs": [],
   "source": [
    "ShoppingList = []"
   ]
  },
  {
   "cell_type": "code",
   "execution_count": 13,
   "id": "730200c8",
   "metadata": {},
   "outputs": [
    {
     "data": {
      "text/plain": [
       "0"
      ]
     },
     "execution_count": 13,
     "metadata": {},
     "output_type": "execute_result"
    }
   ],
   "source": [
    "len(ShoppingList)"
   ]
  },
  {
   "cell_type": "markdown",
   "id": "4714c6d2",
   "metadata": {},
   "source": [
    "## Task-2 Now store the number of items to the shopping_list\n",
    "Watch\n",
    "\n",
    "Laptop\n",
    "\n",
    "Shoes\n",
    "\n",
    "Pen\n",
    "\n",
    "Clothes"
   ]
  },
  {
   "cell_type": "code",
   "execution_count": 23,
   "id": "7f450f16",
   "metadata": {},
   "outputs": [],
   "source": [
    "ShoppingList = ['Watch', 'Laptop', 'Shoes', 'Pen', 'Clothes']"
   ]
  },
  {
   "cell_type": "markdown",
   "id": "2222fb70",
   "metadata": {},
   "source": [
    "## Task-3 Add a new item to the shopping_list\n",
    "Seems like I missed one item \"Football\" to add in the shopping list."
   ]
  },
  {
   "cell_type": "code",
   "execution_count": 24,
   "id": "b888c916",
   "metadata": {},
   "outputs": [],
   "source": [
    "ShoppingList.append(\"Football\")"
   ]
  },
  {
   "cell_type": "code",
   "execution_count": 25,
   "id": "d01fd227",
   "metadata": {},
   "outputs": [
    {
     "data": {
      "text/plain": [
       "['Watch', 'Laptop', 'Shoes', 'Pen', 'Clothes', 'Football']"
      ]
     },
     "execution_count": 25,
     "metadata": {},
     "output_type": "execute_result"
    }
   ],
   "source": [
    "ShoppingList"
   ]
  },
  {
   "cell_type": "markdown",
   "id": "c36b3770",
   "metadata": {},
   "source": [
    "## Task-4 Print First item from the shopping_list\n",
    "Let's check the first item that we need to buy."
   ]
  },
  {
   "cell_type": "code",
   "execution_count": 27,
   "id": "136027a1",
   "metadata": {},
   "outputs": [
    {
     "name": "stdout",
     "output_type": "stream",
     "text": [
      "Watch\n"
     ]
    }
   ],
   "source": [
    "print(ShoppingList[0])"
   ]
  },
  {
   "cell_type": "markdown",
   "id": "24a01039",
   "metadata": {},
   "source": [
    "## Task-5 Print Last item from the shopping_list\n",
    "Let's check the last time that we need to buy."
   ]
  },
  {
   "cell_type": "code",
   "execution_count": 28,
   "id": "73e09cbe",
   "metadata": {},
   "outputs": [
    {
     "data": {
      "text/plain": [
       "6"
      ]
     },
     "execution_count": 28,
     "metadata": {},
     "output_type": "execute_result"
    }
   ],
   "source": [
    "len(ShoppingList)"
   ]
  },
  {
   "cell_type": "code",
   "execution_count": 30,
   "id": "54520c23",
   "metadata": {},
   "outputs": [
    {
     "name": "stdout",
     "output_type": "stream",
     "text": [
      "Football\n"
     ]
    }
   ],
   "source": [
    "print(ShoppingList[-1])"
   ]
  },
  {
   "cell_type": "markdown",
   "id": "d15d3aac",
   "metadata": {},
   "source": [
    "## Task-6 Print the entire Shopping List"
   ]
  },
  {
   "cell_type": "code",
   "execution_count": 31,
   "id": "2536cd8b",
   "metadata": {},
   "outputs": [
    {
     "name": "stdout",
     "output_type": "stream",
     "text": [
      "['Watch', 'Laptop', 'Shoes', 'Pen', 'Clothes', 'Football']\n"
     ]
    }
   ],
   "source": [
    "print(ShoppingList)"
   ]
  },
  {
   "cell_type": "markdown",
   "id": "512e95fa",
   "metadata": {},
   "source": [
    "## Task-7 Print the item that are important to buy from the Shopping List\n",
    "Print \"Laptop\" and \"shoes\""
   ]
  },
  {
   "cell_type": "code",
   "execution_count": 33,
   "id": "0aade649",
   "metadata": {},
   "outputs": [
    {
     "name": "stdout",
     "output_type": "stream",
     "text": [
      "['Laptop', 'Shoes']\n"
     ]
    }
   ],
   "source": [
    "print(ShoppingList[1:3])"
   ]
  },
  {
   "cell_type": "markdown",
   "id": "8ee58826",
   "metadata": {},
   "source": [
    "## Task-8 Change the item from the shopping_list\n",
    "Instead of \"Pen\" I want to buy \"Notebook\" let's change the item stored in the list."
   ]
  },
  {
   "cell_type": "code",
   "execution_count": 34,
   "id": "d7f3608a",
   "metadata": {},
   "outputs": [],
   "source": [
    "ShoppingList[3] = \"Notebook\""
   ]
  },
  {
   "cell_type": "code",
   "execution_count": 35,
   "id": "d2014641",
   "metadata": {},
   "outputs": [
    {
     "data": {
      "text/plain": [
       "['Watch', 'Laptop', 'Shoes', 'Notebook', 'Clothes', 'Football']"
      ]
     },
     "execution_count": 35,
     "metadata": {},
     "output_type": "execute_result"
    }
   ],
   "source": [
    "ShoppingList"
   ]
  },
  {
   "cell_type": "markdown",
   "id": "2e873785",
   "metadata": {},
   "source": [
    "## Task-9 Delete the item from the shopping_list that is not required\n",
    "Let's delete items that are unimportant, such as; I don't want to buy Clothes, let's delete it."
   ]
  },
  {
   "cell_type": "code",
   "execution_count": 36,
   "id": "1af54843",
   "metadata": {},
   "outputs": [],
   "source": [
    "del(ShoppingList[4])"
   ]
  },
  {
   "cell_type": "code",
   "execution_count": 37,
   "id": "b1a04248",
   "metadata": {},
   "outputs": [
    {
     "data": {
      "text/plain": [
       "['Watch', 'Laptop', 'Shoes', 'Notebook', 'Football']"
      ]
     },
     "execution_count": 37,
     "metadata": {},
     "output_type": "execute_result"
    }
   ],
   "source": [
    "ShoppingList"
   ]
  }
 ],
 "metadata": {
  "kernelspec": {
   "display_name": "Python 3 (ipykernel)",
   "language": "python",
   "name": "python3"
  },
  "language_info": {
   "codemirror_mode": {
    "name": "ipython",
    "version": 3
   },
   "file_extension": ".py",
   "mimetype": "text/x-python",
   "name": "python",
   "nbconvert_exporter": "python",
   "pygments_lexer": "ipython3",
   "version": "3.9.13"
  }
 },
 "nbformat": 4,
 "nbformat_minor": 5
}
