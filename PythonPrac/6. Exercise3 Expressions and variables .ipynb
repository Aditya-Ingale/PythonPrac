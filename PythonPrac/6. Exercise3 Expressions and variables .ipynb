{
 "cells": [
  {
   "cell_type": "markdown",
   "id": "730ac3e2",
   "metadata": {},
   "source": [
    "### Exercise: Expressions in Python"
   ]
  },
  {
   "cell_type": "markdown",
   "id": "22d309af",
   "metadata": {},
   "source": [
    "Write an expression to add 30 and 20 and subtract 40"
   ]
  },
  {
   "cell_type": "code",
   "execution_count": 4,
   "id": "eb2912ae",
   "metadata": {},
   "outputs": [
    {
     "data": {
      "text/plain": [
       "10"
      ]
     },
     "execution_count": 4,
     "metadata": {},
     "output_type": "execute_result"
    }
   ],
   "source": [
    "30 + 20 - 40"
   ]
  },
  {
   "cell_type": "markdown",
   "id": "4aaa6008",
   "metadata": {},
   "source": [
    "Write an expression to subtract 5 from 55 and divide the result by 10"
   ]
  },
  {
   "cell_type": "code",
   "execution_count": 5,
   "id": "2620b7d8",
   "metadata": {},
   "outputs": [
    {
     "data": {
      "text/plain": [
       "5.0"
      ]
     },
     "execution_count": 5,
     "metadata": {},
     "output_type": "execute_result"
    }
   ],
   "source": [
    "(55 - 5) / 10"
   ]
  },
  {
   "cell_type": "markdown",
   "id": "f41ef5a9",
   "metadata": {},
   "source": [
    "Write an expression to multiply 6 with 10 and divide the result by 12"
   ]
  },
  {
   "cell_type": "code",
   "execution_count": 6,
   "id": "c4f54d82",
   "metadata": {},
   "outputs": [
    {
     "data": {
      "text/plain": [
       "5.0"
      ]
     },
     "execution_count": 6,
     "metadata": {},
     "output_type": "execute_result"
    }
   ],
   "source": [
    "(6 * 10) / 12"
   ]
  },
  {
   "cell_type": "markdown",
   "id": "47ae05b6",
   "metadata": {},
   "source": [
    "### Exercise: Variables in Python"
   ]
  },
  {
   "cell_type": "markdown",
   "id": "c1f69989",
   "metadata": {},
   "source": [
    "What is the value of x where x = 3 + 2 * 2"
   ]
  },
  {
   "cell_type": "code",
   "execution_count": 7,
   "id": "de0af9c3",
   "metadata": {},
   "outputs": [
    {
     "data": {
      "text/plain": [
       "7"
      ]
     },
     "execution_count": 7,
     "metadata": {},
     "output_type": "execute_result"
    }
   ],
   "source": [
    "x = 3 + 2 * 2\n",
    "\n",
    "x"
   ]
  },
  {
   "cell_type": "markdown",
   "id": "a0233705",
   "metadata": {},
   "source": [
    "What is the value of y where y = (3 + 2) * 2?"
   ]
  },
  {
   "cell_type": "code",
   "execution_count": 9,
   "id": "7deb87d7",
   "metadata": {},
   "outputs": [
    {
     "data": {
      "text/plain": [
       "10"
      ]
     },
     "execution_count": 9,
     "metadata": {},
     "output_type": "execute_result"
    }
   ],
   "source": [
    "y = (3 + 2) * 2\n",
    "\n",
    "y"
   ]
  },
  {
   "cell_type": "markdown",
   "id": "61e989d8",
   "metadata": {},
   "source": [
    "What is the value of z where z = x + y?"
   ]
  },
  {
   "cell_type": "code",
   "execution_count": 10,
   "id": "7ceeade6",
   "metadata": {},
   "outputs": [
    {
     "data": {
      "text/plain": [
       "17"
      ]
     },
     "execution_count": 10,
     "metadata": {},
     "output_type": "execute_result"
    }
   ],
   "source": [
    "z = x + y\n",
    "\n",
    "z"
   ]
  }
 ],
 "metadata": {
  "kernelspec": {
   "display_name": "Python 3 (ipykernel)",
   "language": "python",
   "name": "python3"
  },
  "language_info": {
   "codemirror_mode": {
    "name": "ipython",
    "version": 3
   },
   "file_extension": ".py",
   "mimetype": "text/x-python",
   "name": "python",
   "nbconvert_exporter": "python",
   "pygments_lexer": "ipython3",
   "version": "3.9.13"
  }
 },
 "nbformat": 4,
 "nbformat_minor": 5
}
