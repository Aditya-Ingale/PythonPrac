{
 "cells": [
  {
   "cell_type": "markdown",
   "id": "1baa8e7b",
   "metadata": {},
   "source": [
    "#### Consider the following list a, convert it to Numpy Array.\n",
    "\n",
    "a = [[1, 2, 3, 4], [5, 6, 7, 8], [9, 10, 11, 12]]"
   ]
  },
  {
   "cell_type": "code",
   "execution_count": 2,
   "id": "9d5318ec",
   "metadata": {},
   "outputs": [
    {
     "data": {
      "text/plain": [
       "array([[ 1,  2,  3,  4],\n",
       "       [ 5,  6,  7,  8],\n",
       "       [ 9, 10, 11, 12]])"
      ]
     },
     "execution_count": 2,
     "metadata": {},
     "output_type": "execute_result"
    }
   ],
   "source": [
    "import numpy as np\n",
    "\n",
    "a = [[1, 2, 3, 4], [5, 6, 7, 8], [9, 10, 11, 12]]\n",
    "A = np.array(a)\n",
    "A"
   ]
  },
  {
   "cell_type": "markdown",
   "id": "a738b59f",
   "metadata": {},
   "source": [
    "#### Calculate the numpy array size."
   ]
  },
  {
   "cell_type": "code",
   "execution_count": 3,
   "id": "7bd447d1",
   "metadata": {},
   "outputs": [
    {
     "data": {
      "text/plain": [
       "12"
      ]
     },
     "execution_count": 3,
     "metadata": {},
     "output_type": "execute_result"
    }
   ],
   "source": [
    "A.size"
   ]
  },
  {
   "cell_type": "markdown",
   "id": "8ba73f00",
   "metadata": {},
   "source": [
    "#### Access the element on the first row and first and second columns."
   ]
  },
  {
   "cell_type": "code",
   "execution_count": 4,
   "id": "292a649b",
   "metadata": {},
   "outputs": [
    {
     "data": {
      "text/plain": [
       "array([1, 2])"
      ]
     },
     "execution_count": 4,
     "metadata": {},
     "output_type": "execute_result"
    }
   ],
   "source": [
    "A[0][0:2]"
   ]
  },
  {
   "cell_type": "markdown",
   "id": "01557420",
   "metadata": {},
   "source": [
    "#### Perform matrix multiplication with the numpy arrays A and B.\n",
    "\n",
    "B = np.array([[0, 1], [1, 0], [1, 1], [-1, 0]])"
   ]
  },
  {
   "cell_type": "code",
   "execution_count": 6,
   "id": "13a93198",
   "metadata": {},
   "outputs": [
    {
     "data": {
      "text/plain": [
       "array([[ 1,  4],\n",
       "       [ 5, 12],\n",
       "       [ 9, 20]])"
      ]
     },
     "execution_count": 6,
     "metadata": {},
     "output_type": "execute_result"
    }
   ],
   "source": [
    "B = np.array([[0, 1], [1, 0], [1, 1], [-1, 0]])\n",
    "X = np.dot(A,B)\n",
    "X"
   ]
  }
 ],
 "metadata": {
  "kernelspec": {
   "display_name": "Python 3 (ipykernel)",
   "language": "python",
   "name": "python3"
  },
  "language_info": {
   "codemirror_mode": {
    "name": "ipython",
    "version": 3
   },
   "file_extension": ".py",
   "mimetype": "text/x-python",
   "name": "python",
   "nbconvert_exporter": "python",
   "pygments_lexer": "ipython3",
   "version": "3.9.13"
  }
 },
 "nbformat": 4,
 "nbformat_minor": 5
}
