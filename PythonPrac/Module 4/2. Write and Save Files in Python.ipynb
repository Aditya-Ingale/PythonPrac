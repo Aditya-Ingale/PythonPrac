{
 "cells": [
  {
   "cell_type": "markdown",
   "id": "e17f8de3",
   "metadata": {},
   "source": [
    "# Write and Save Files in Python\n",
    "\n",
    "## Objectives\n",
    "After completing this lab you will be able to:\n",
    "* Write to files using Python libraries\n",
    "\n",
    "## Table of Contents\n",
    "* Writing Files\n",
    "* Appending Files\n",
    "* Additional File modes\n",
    "* Copy a File"
   ]
  },
  {
   "cell_type": "markdown",
   "id": "43c2d879",
   "metadata": {},
   "source": [
    "## Writing Files\n",
    "We can open a file object using the method <code>write()</code> to save the text file to a list. To write to a file, the mode argument must be set to **w**. Let’s write a file **Example2.txt** with the line: **“This is line A”**"
   ]
  },
  {
   "cell_type": "code",
   "execution_count": 5,
   "id": "1ef4b2f3",
   "metadata": {},
   "outputs": [],
   "source": [
    "File_path = exmp2\n",
    "exmp2 = 'Example2.txt'\n",
    "with open(exmp2, 'w') as writefile:\n",
    "    writefile.write(\"This is line A\")"
   ]
  },
  {
   "cell_type": "markdown",
   "id": "2a3fc6a8",
   "metadata": {},
   "source": [
    "We can read the file to see if it worked:"
   ]
  },
  {
   "cell_type": "code",
   "execution_count": 6,
   "id": "41cdc6fb",
   "metadata": {},
   "outputs": [
    {
     "name": "stdout",
     "output_type": "stream",
     "text": [
      "This is line A\n"
     ]
    }
   ],
   "source": [
    "# Read file\n",
    "\n",
    "with open(exmp2, 'r') as testwritefile:\n",
    "    print(testwritefile.read())"
   ]
  },
  {
   "cell_type": "markdown",
   "id": "7024eb5b",
   "metadata": {},
   "source": [
    "We can write multiple lines:"
   ]
  },
  {
   "cell_type": "code",
   "execution_count": 8,
   "id": "833c733a",
   "metadata": {},
   "outputs": [],
   "source": [
    "# Write lines to file\n",
    "\n",
    "with open(exmp2, 'w') as writefile:\n",
    "    writefile.write(\"This is line A\\n\")\n",
    "    writefile.write(\"This is line B\\n\")"
   ]
  },
  {
   "attachments": {
    "image.png": {
     "image/png": "[encoded data removed]"
    }
   },
   "cell_type": "markdown",
   "id": "c2dac865",
   "metadata": {},
   "source": [
    "The method <code>.write()</code> works similar to the method <code>.readline()</code>, except instead of reading a new line it writes a new line. The process is illustrated in the figure. The different colour coding of the grid represents a new line added to the file after each method call.\n",
    "\n",
    "![image.png](attachment:image.png)\n",
    "\n",
    "You can check the file to see if your results are correct"
   ]
  },
  {
   "cell_type": "code",
   "execution_count": 9,
   "id": "e4ac5f2f",
   "metadata": {},
   "outputs": [
    {
     "name": "stdout",
     "output_type": "stream",
     "text": [
      "This is line A\n",
      "This is line B\n",
      "\n"
     ]
    }
   ],
   "source": [
    "# Check whether write to file\n",
    "\n",
    "with open(exmp2, 'r') as testwritefile:\n",
    "    print(testwritefile.read())"
   ]
  },
  {
   "cell_type": "markdown",
   "id": "7edbe83d",
   "metadata": {},
   "source": [
    "We write a list to a **.txt** file as follows:"
   ]
  },
  {
   "cell_type": "code",
   "execution_count": 10,
   "id": "035333eb",
   "metadata": {},
   "outputs": [
    {
     "data": {
      "text/plain": [
       "['This is line A\\n', 'This is line B\\n', 'This is line C\\n']"
      ]
     },
     "execution_count": 10,
     "metadata": {},
     "output_type": "execute_result"
    }
   ],
   "source": [
    "# Sample list of text\n",
    "\n",
    "Lines = [\"This is line A\\n\", \"This is line B\\n\", \"This is line C\\n\"]\n",
    "Lines"
   ]
  },
  {
   "cell_type": "code",
   "execution_count": 12,
   "id": "09c21413",
   "metadata": {},
   "outputs": [
    {
     "name": "stdout",
     "output_type": "stream",
     "text": [
      "This is line A\n",
      "\n",
      "This is line B\n",
      "\n",
      "This is line C\n",
      "\n"
     ]
    }
   ],
   "source": [
    "# Write the strings in the list to text file\n",
    "\n",
    "with open(exmp2, 'w') as writefile:\n",
    "    for line in Lines:\n",
    "        print(line)\n",
    "        writefile.write(line)"
   ]
  },
  {
   "cell_type": "markdown",
   "id": "d441aab7",
   "metadata": {},
   "source": [
    "We can verify the file is written by reading it and printing out the values:"
   ]
  },
  {
   "cell_type": "code",
   "execution_count": 14,
   "id": "59d09195",
   "metadata": {},
   "outputs": [
    {
     "name": "stdout",
     "output_type": "stream",
     "text": [
      "This is line A\n",
      "This is line B\n",
      "This is line C\n",
      "\n"
     ]
    }
   ],
   "source": [
    "# Verify if writing to file is successfully executed\n",
    "\n",
    "with open(exmp2, 'r') as testwritefile:\n",
    "    print(testwritefile.read())"
   ]
  },
  {
   "cell_type": "markdown",
   "id": "f22accb4",
   "metadata": {},
   "source": [
    "However, note that setting the mode to **w** overwrites all the existing data in the file."
   ]
  },
  {
   "cell_type": "code",
   "execution_count": 17,
   "id": "ac2996d7",
   "metadata": {},
   "outputs": [
    {
     "name": "stdout",
     "output_type": "stream",
     "text": [
      "Overwrite\n",
      "\n"
     ]
    }
   ],
   "source": [
    "with open(exmp2, 'w') as writefile:\n",
    "    writefile.write(\"Overwrite\\n\")\n",
    "with open(exmp2, 'r') as testwritefile:\n",
    "    print(testwritefile.read())"
   ]
  },
  {
   "cell_type": "markdown",
   "id": "0f566f17",
   "metadata": {},
   "source": [
    "## Appending Files\n",
    "We can write to files without losing any of the existing data as follows by setting the mode argument to append: **a**. you can append a new line as follows:"
   ]
  },
  {
   "cell_type": "code",
   "execution_count": 19,
   "id": "9df4677a",
   "metadata": {},
   "outputs": [],
   "source": [
    "# Write a new line to text file\n",
    "\n",
    "with open(exmp2, 'a') as testwritefile:\n",
    "    testwritefile.write(\"This is line C\\n\")\n",
    "    testwritefile.write(\"This is line D\\n\")\n",
    "    testwritefile.write(\"This is line E\\n\")"
   ]
  },
  {
   "cell_type": "markdown",
   "id": "f4eb170e",
   "metadata": {},
   "source": [
    "You can verify the file has changed by running the following cell:"
   ]
  },
  {
   "cell_type": "code",
   "execution_count": 22,
   "id": "d17be81b",
   "metadata": {},
   "outputs": [
    {
     "name": "stdout",
     "output_type": "stream",
     "text": [
      "Overwrite\n",
      "This is line C\n",
      "This is line D\n",
      "This is line E\n",
      "\n"
     ]
    }
   ],
   "source": [
    "# Verify if the new line is in the text file\n",
    "\n",
    "with open(exmp2, 'r') as testwritefile:\n",
    "    print(testwritefile.read())"
   ]
  },
  {
   "cell_type": "markdown",
   "id": "e3cea45a",
   "metadata": {},
   "source": [
    "## Additional modes\n",
    "\n",
    "It's fairly ineffecient to open the file in **a** or **w** and then reopening it in **r** to read any lines. Luckily we can access the file in the following modes:\n",
    "\n",
    "* **r+** : Reading and writing. Cannot truncate the file.\n",
    "* **w+** : Writing and reading. Truncates the file.\n",
    "* **a+** : Appending and Reading. Creates a new file, if none exists. You dont have to dwell on the specifics of each mode for this lab."
   ]
  },
  {
   "cell_type": "markdown",
   "id": "d7eeb669",
   "metadata": {},
   "source": [
    "Let's try out the **a+** mode:"
   ]
  },
  {
   "cell_type": "code",
   "execution_count": 23,
   "id": "fd57fc27",
   "metadata": {},
   "outputs": [
    {
     "name": "stdout",
     "output_type": "stream",
     "text": [
      "\n"
     ]
    }
   ],
   "source": [
    "with open(exmp2, 'a+') as testwritefile:\n",
    "    testwritefile.write(\"This is line E\\n\")\n",
    "    print(testwritefile.read())"
   ]
  },
  {
   "cell_type": "markdown",
   "id": "5f449dda",
   "metadata": {},
   "source": [
    "There were no errors but <code>read()</code> also did not output anything. This is because of our location in the file.\n",
    "\n",
    "Most of the file methods we've looked at work in a certain location in the file. <code>.write() </code> writes at a certain location in the file. <code>.read()</code> reads at a certain location in the file and so on. You can think of this as moving your pointer around in the notepad to make changes at specific location.\n",
    "\n",
    "Opening the file in **w** is akin to opening the .txt file, moving your cursor to the beginning of the text file, writing new text and deleting everything that follows.\n",
    "\n",
    "Whereas opening the file in **a** is similiar to opening the .txt file, moving your cursor to the very end and then adding the new pieces of text. <br>\n",
    "It is often very useful to know where the 'cursor' is in a file and be able to control it. The following methods allow us to do precisely this -\n",
    "- <code>.tell()</code> - returns the current position in bytes\n",
    "- <code>.seek(offset,from)</code> - changes the position by 'offset' bytes with respect to 'from'. From can take the value of 0,1,2 corresponding to beginning, relative to current position and end"
   ]
  },
  {
   "cell_type": "markdown",
   "id": "a0b6fa34",
   "metadata": {},
   "source": [
    "Now lets revisit **a+**"
   ]
  },
  {
   "cell_type": "code",
   "execution_count": 25,
   "id": "ff698229",
   "metadata": {},
   "outputs": [
    {
     "name": "stdout",
     "output_type": "stream",
     "text": [
      "Initial Location: 75\n",
      "Read nothing\n",
      "\n",
      "New Location : 0\n",
      "Overwrite\n",
      "This is line C\n",
      "This is line D\n",
      "This is line E\n",
      "This is line E\n",
      "\n",
      "Location after read: 75\n"
     ]
    }
   ],
   "source": [
    "with open(exmp2, 'a+') as testwritefile:\n",
    "    print(\"Initial Location: {}\".format(testwritefile.tell()))\n",
    "    \n",
    "    data = testwritefile.read()\n",
    "    if (not data):  #empty strings return false in python\n",
    "            print('Read nothing') \n",
    "    else: \n",
    "            print(testwritefile.read())\n",
    "            \n",
    "    testwritefile.seek(0,0) # move 0 bytes from beginning.\n",
    "    \n",
    "    print(\"\\nNew Location : {}\".format(testwritefile.tell()))\n",
    "    data = testwritefile.read()\n",
    "    if (not data): \n",
    "            print('Read nothing') \n",
    "    else: \n",
    "            print(data)\n",
    "    \n",
    "    print(\"Location after read: {}\".format(testwritefile.tell()) )"
   ]
  },
  {
   "cell_type": "markdown",
   "id": "008adedd",
   "metadata": {},
   "source": [
    "Finally, a note on the difference between **w+** and **r+**. Both of these modes allow access to read and write methods, however, opening a file in **w+** overwrites it and deletes all pre-existing data.\n",
    "\n",
    "In the following code block, Run the code as it is first and then run it without the <code>.truncate()</code>."
   ]
  },
  {
   "cell_type": "code",
   "execution_count": 27,
   "id": "763ec934",
   "metadata": {},
   "outputs": [
    {
     "name": "stdout",
     "output_type": "stream",
     "text": [
      "Line 1\n",
      "Line 2\n",
      "Line 3\n",
      "Line 4\n",
      "finished\n",
      "\n",
      "This is line E\n",
      "This is line E\n",
      "\n"
     ]
    }
   ],
   "source": [
    "with open(exmp2, 'r+') as testwritefile:\n",
    "    testwritefile.seek(0,0) #write at beginning of file\n",
    "    testwritefile.write(\"Line 1\" + \"\\n\")\n",
    "    testwritefile.write(\"Line 2\" + \"\\n\")\n",
    "    testwritefile.write(\"Line 3\" + \"\\n\")\n",
    "    testwritefile.write(\"Line 4\" + \"\\n\")\n",
    "    testwritefile.write(\"finished\\n\")\n",
    "    testwritefile.seek(0,0)\n",
    "    print(testwritefile.read())"
   ]
  },
  {
   "cell_type": "markdown",
   "id": "46dece39",
   "metadata": {},
   "source": [
    "To work with a file on existing data, use **r+** and **a+**. While using **r+**, it can be useful to add a <code>.truncate()</code> method at the end of your data. This will reduce the file to your data and delete everything that follows. <br>"
   ]
  },
  {
   "cell_type": "code",
   "execution_count": 29,
   "id": "bdbd9da9",
   "metadata": {},
   "outputs": [
    {
     "name": "stdout",
     "output_type": "stream",
     "text": [
      "Line 1\n",
      "Line 2\n",
      "Line 3\n",
      "Line 4\n",
      "finished\n",
      "\n"
     ]
    }
   ],
   "source": [
    "with open(exmp2, 'r+') as testwritefile:\n",
    "    testwritefile.seek(0,0) #write at beginning of file\n",
    "    testwritefile.write(\"Line 1\" + \"\\n\")\n",
    "    testwritefile.write(\"Line 2\" + \"\\n\")\n",
    "    testwritefile.write(\"Line 3\" + \"\\n\")\n",
    "    testwritefile.write(\"Line 4\" + \"\\n\")\n",
    "    testwritefile.write(\"finished\\n\")\n",
    "    #Uncomment the line below\n",
    "    testwritefile.truncate()\n",
    "    testwritefile.seek(0,0)\n",
    "    print(testwritefile.read())"
   ]
  },
  {
   "cell_type": "markdown",
   "id": "085e6627",
   "metadata": {},
   "source": [
    "## Copy a File\n",
    "Let's copy the file **Example2.txt** to the file **Example3.txt**:"
   ]
  },
  {
   "cell_type": "code",
   "execution_count": 32,
   "id": "967232ef",
   "metadata": {},
   "outputs": [],
   "source": [
    "# Copy file to another\n",
    "exmp3 = 'Example3.txt'\n",
    "with open(exmp2,'r') as readfile:\n",
    "    with open(exmp3,'w') as writefile:\n",
    "          for line in readfile:\n",
    "                writefile.write(line)"
   ]
  },
  {
   "cell_type": "markdown",
   "id": "b954c0b1",
   "metadata": {},
   "source": [
    "We can read the file to see if everything works:"
   ]
  },
  {
   "cell_type": "code",
   "execution_count": 33,
   "id": "0342cc2c",
   "metadata": {},
   "outputs": [
    {
     "name": "stdout",
     "output_type": "stream",
     "text": [
      "Line 1\n",
      "Line 2\n",
      "Line 3\n",
      "Line 4\n",
      "finished\n",
      "\n"
     ]
    }
   ],
   "source": [
    "# Verify if the copy is successfully executed\n",
    "\n",
    "with open(exmp3,'r') as testwritefile:\n",
    "    print(testwritefile.read())"
   ]
  },
  {
   "cell_type": "markdown",
   "id": "09f70d4b",
   "metadata": {},
   "source": [
    "After reading files, we can also write data into files and save them in different file formats like **.txt, .csv, .xls (for excel files)** etc. You will come across these in further examples"
   ]
  },
  {
   "cell_type": "markdown",
   "id": "05b04143",
   "metadata": {},
   "source": [
    "**NOTE:** If you wish to open and view the <code>example3.txt</code> file, download this lab here and run it locally on your machine. Then go to the working directory to ensure the <code>example3.txt</code> file exists and contains the summary data that we wrote."
   ]
  }
 ],
 "metadata": {
  "kernelspec": {
   "display_name": "Python 3 (ipykernel)",
   "language": "python",
   "name": "python3"
  },
  "language_info": {
   "codemirror_mode": {
    "name": "ipython",
    "version": 3
   },
   "file_extension": ".py",
   "mimetype": "text/x-python",
   "name": "python",
   "nbconvert_exporter": "python",
   "pygments_lexer": "ipython3",
   "version": "3.9.13"
  }
 },
 "nbformat": 4,
 "nbformat_minor": 5
}
