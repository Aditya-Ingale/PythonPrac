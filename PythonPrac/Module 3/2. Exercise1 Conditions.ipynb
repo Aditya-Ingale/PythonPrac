{
 "cells": [
  {
   "cell_type": "markdown",
   "id": "1653acf0",
   "metadata": {},
   "source": [
    "Write an if statement to determine if an album had a rating greater than 8. Test it using the rating for the album <b>“Back in Black”</b> that had a rating of 8.5. If the statement is true print \"This album is Amazing!\""
   ]
  },
  {
   "cell_type": "code",
   "execution_count": 3,
   "id": "e0d33d29",
   "metadata": {},
   "outputs": [
    {
     "name": "stdout",
     "output_type": "stream",
     "text": [
      "This album is Amazing!\n"
     ]
    }
   ],
   "source": [
    "rating = 8.5\n",
    "if(rating > 8):\n",
    "    print(\"This album is Amazing!\")"
   ]
  },
  {
   "cell_type": "markdown",
   "id": "77d3ddbf",
   "metadata": {},
   "source": [
    "Write an if-else statement that performs the following. If the rating is larger then eight print “this album is amazing”. If the rating is less than or equal to 8 print “this album is ok”."
   ]
  },
  {
   "cell_type": "code",
   "execution_count": 5,
   "id": "e97dccc6",
   "metadata": {},
   "outputs": [
    {
     "name": "stdout",
     "output_type": "stream",
     "text": [
      "This album is amazing\n"
     ]
    }
   ],
   "source": [
    "rating = 8.5\n",
    "if(rating > 8):\n",
    "    print(\"This album is amazing\")\n",
    "else:\n",
    "    print(\"This album is OK\")"
   ]
  },
  {
   "cell_type": "markdown",
   "id": "2fb748cf",
   "metadata": {},
   "source": [
    "Write an if statement to determine if an album came out before 1980 or in the years: 1991 or 1993. If the condition is true print out the year the album came out."
   ]
  },
  {
   "cell_type": "code",
   "execution_count": 9,
   "id": "c757599a",
   "metadata": {},
   "outputs": [
    {
     "name": "stdout",
     "output_type": "stream",
     "text": [
      "1979\n"
     ]
    }
   ],
   "source": [
    "year = 1979\n",
    "if(year < 1980) or (year == 1991) or (year == 1993):\n",
    "    print(year)"
   ]
  }
 ],
 "metadata": {
  "kernelspec": {
   "display_name": "Python 3 (ipykernel)",
   "language": "python",
   "name": "python3"
  },
  "language_info": {
   "codemirror_mode": {
    "name": "ipython",
    "version": 3
   },
   "file_extension": ".py",
   "mimetype": "text/x-python",
   "name": "python",
   "nbconvert_exporter": "python",
   "pygments_lexer": "ipython3",
   "version": "3.9.13"
  }
 },
 "nbformat": 4,
 "nbformat_minor": 5
}
