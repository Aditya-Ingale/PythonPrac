{
 "cells": [
  {
   "cell_type": "markdown",
   "id": "691631a1",
   "metadata": {},
   "source": [
    "#### What is the value of the variable \"a\" after the following code is executed?\n",
    "\n",
    "a = \"1\""
   ]
  },
  {
   "cell_type": "code",
   "execution_count": 6,
   "id": "8150a383",
   "metadata": {},
   "outputs": [
    {
     "data": {
      "text/plain": [
       "'1'"
      ]
     },
     "execution_count": 6,
     "metadata": {},
     "output_type": "execute_result"
    }
   ],
   "source": [
    "a = \"1\"\n",
    "\n",
    "a"
   ]
  },
  {
   "cell_type": "markdown",
   "id": "38d8fee3",
   "metadata": {},
   "source": [
    "#### What is the value of the variable b after the following code is executed?\n",
    "\n",
    "b = \"2\""
   ]
  },
  {
   "cell_type": "code",
   "execution_count": 7,
   "id": "b9e836aa",
   "metadata": {},
   "outputs": [
    {
     "data": {
      "text/plain": [
       "'2'"
      ]
     },
     "execution_count": 7,
     "metadata": {},
     "output_type": "execute_result"
    }
   ],
   "source": [
    "b = \"2\"\n",
    "\n",
    "b"
   ]
  },
  {
   "cell_type": "markdown",
   "id": "021ac415",
   "metadata": {},
   "source": [
    "#### What is the value of the variable c after the following code is executed?\n",
    "\n",
    "c = a + b"
   ]
  },
  {
   "cell_type": "code",
   "execution_count": 9,
   "id": "716cb0c8",
   "metadata": {},
   "outputs": [
    {
     "data": {
      "text/plain": [
       "'12'"
      ]
     },
     "execution_count": 9,
     "metadata": {},
     "output_type": "execute_result"
    }
   ],
   "source": [
    "c = a + b \n",
    "\n",
    "c"
   ]
  },
  {
   "cell_type": "markdown",
   "id": "3eebb7c3",
   "metadata": {},
   "source": [
    "#### Consider the variable d use slicing to print out the first three elements:\n",
    "    \n",
    "d = \"ABCDEFG\""
   ]
  },
  {
   "cell_type": "code",
   "execution_count": 11,
   "id": "f0c07bf6",
   "metadata": {},
   "outputs": [
    {
     "data": {
      "text/plain": [
       "'ABC'"
      ]
     },
     "execution_count": 11,
     "metadata": {},
     "output_type": "execute_result"
    }
   ],
   "source": [
    "d = \"ABCDEFG\"\n",
    "\n",
    "d[0:3]"
   ]
  },
  {
   "cell_type": "markdown",
   "id": "97193bac",
   "metadata": {},
   "source": [
    "#### Use a stride value of 2 to print out every second character of the string e:\n",
    "\n",
    "e = 'clocrkr1e1c1t'"
   ]
  },
  {
   "cell_type": "code",
   "execution_count": 12,
   "id": "838b27b0",
   "metadata": {},
   "outputs": [
    {
     "data": {
      "text/plain": [
       "'correct'"
      ]
     },
     "execution_count": 12,
     "metadata": {},
     "output_type": "execute_result"
    }
   ],
   "source": [
    "e = 'clocrkr1e1c1t'\n",
    "\n",
    "e[::2]"
   ]
  },
  {
   "cell_type": "markdown",
   "id": "2daf80dd",
   "metadata": {},
   "source": [
    "#### Print out a backslash:"
   ]
  },
  {
   "cell_type": "code",
   "execution_count": 18,
   "id": "8813a1ff",
   "metadata": {},
   "outputs": [
    {
     "name": "stdout",
     "output_type": "stream",
     "text": [
      "\\ \n"
     ]
    }
   ],
   "source": [
    "print(r\"\\ \")"
   ]
  },
  {
   "cell_type": "markdown",
   "id": "aa385db3",
   "metadata": {},
   "source": [
    "#### Convert the variable f to uppercase:\n",
    "    \n",
    "f = \"You are wrong\""
   ]
  },
  {
   "cell_type": "code",
   "execution_count": 20,
   "id": "5ba634f1",
   "metadata": {},
   "outputs": [
    {
     "data": {
      "text/plain": [
       "'YOU ARE WRONG'"
      ]
     },
     "execution_count": 20,
     "metadata": {},
     "output_type": "execute_result"
    }
   ],
   "source": [
    "f = \"You are wrong\"\n",
    "\n",
    "f.upper()"
   ]
  },
  {
   "cell_type": "markdown",
   "id": "8e1f875e",
   "metadata": {},
   "source": [
    "#### Convert the variable f2 to lowercase:\n",
    "\n",
    "f2=\"YOU ARE RIGHT\""
   ]
  },
  {
   "cell_type": "code",
   "execution_count": 21,
   "id": "a956ba19",
   "metadata": {},
   "outputs": [
    {
     "data": {
      "text/plain": [
       "'you are right'"
      ]
     },
     "execution_count": 21,
     "metadata": {},
     "output_type": "execute_result"
    }
   ],
   "source": [
    "f2=\"YOU ARE RIGHT\"\n",
    "\n",
    "f2.lower()"
   ]
  },
  {
   "cell_type": "markdown",
   "id": "1aa6d5e5",
   "metadata": {},
   "source": [
    "#### Consider the variable g, and find the first index of the sub-string snow:\n",
    "\n",
    "g = \"Mary had a little lamb Little lamb, little lamb Mary had a little lamb \\\\\n",
    "Its fleece was white as snow And everywhere that Mary went Mary went, Mary went \\\\\n",
    "Everywhere that Mary went The lamb was sure to go\""
   ]
  },
  {
   "cell_type": "code",
   "execution_count": 26,
   "id": "fa54b3ce",
   "metadata": {},
   "outputs": [
    {
     "data": {
      "text/plain": [
       "95"
      ]
     },
     "execution_count": 26,
     "metadata": {},
     "output_type": "execute_result"
    }
   ],
   "source": [
    "g = \"Mary had a little lamb Little lamb, little lamb Mary had a little lamb \\\n",
    "Its fleece was white as snow And everywhere that Mary went Mary went, Mary went \\\n",
    "Everywhere that Mary went The lamb was sure to go\"\n",
    "\n",
    "g.find(\"snow\")"
   ]
  },
  {
   "cell_type": "markdown",
   "id": "28a1ee64",
   "metadata": {},
   "source": [
    "#### In the variable g, replace the sub-string Mary with Bob:"
   ]
  },
  {
   "cell_type": "code",
   "execution_count": 27,
   "id": "c81e2517",
   "metadata": {},
   "outputs": [
    {
     "data": {
      "text/plain": [
       "'Bob had a little lamb Little lamb, little lamb Bob had a little lamb Its fleece was white as snow And everywhere that Bob went Bob went, Bob went Everywhere that Bob went The lamb was sure to go'"
      ]
     },
     "execution_count": 27,
     "metadata": {},
     "output_type": "execute_result"
    }
   ],
   "source": [
    "g.replace('Mary', 'Bob')"
   ]
  },
  {
   "cell_type": "markdown",
   "id": "9e286a79",
   "metadata": {},
   "source": [
    "#### In the variable g, replace the sub-string \n",
    "#### \",\" with \".\":"
   ]
  },
  {
   "cell_type": "code",
   "execution_count": 29,
   "id": "280612fb",
   "metadata": {},
   "outputs": [
    {
     "data": {
      "text/plain": [
       "'Mary had a little lamb Little lamb. little lamb Mary had a little lamb Its fleece was white as snow And everywhere that Mary went Mary went. Mary went Everywhere that Mary went The lamb was sure to go'"
      ]
     },
     "execution_count": 29,
     "metadata": {},
     "output_type": "execute_result"
    }
   ],
   "source": [
    "g.replace(\",\", \".\")"
   ]
  },
  {
   "cell_type": "markdown",
   "id": "536d05b6",
   "metadata": {},
   "source": [
    "#### In the variable g, split the substring to list:"
   ]
  },
  {
   "cell_type": "code",
   "execution_count": 30,
   "id": "872b7bc9",
   "metadata": {},
   "outputs": [
    {
     "data": {
      "text/plain": [
       "['Mary',\n",
       " 'had',\n",
       " 'a',\n",
       " 'little',\n",
       " 'lamb',\n",
       " 'Little',\n",
       " 'lamb,',\n",
       " 'little',\n",
       " 'lamb',\n",
       " 'Mary',\n",
       " 'had',\n",
       " 'a',\n",
       " 'little',\n",
       " 'lamb',\n",
       " 'Its',\n",
       " 'fleece',\n",
       " 'was',\n",
       " 'white',\n",
       " 'as',\n",
       " 'snow',\n",
       " 'And',\n",
       " 'everywhere',\n",
       " 'that',\n",
       " 'Mary',\n",
       " 'went',\n",
       " 'Mary',\n",
       " 'went,',\n",
       " 'Mary',\n",
       " 'went',\n",
       " 'Everywhere',\n",
       " 'that',\n",
       " 'Mary',\n",
       " 'went',\n",
       " 'The',\n",
       " 'lamb',\n",
       " 'was',\n",
       " 'sure',\n",
       " 'to',\n",
       " 'go']"
      ]
     },
     "execution_count": 30,
     "metadata": {},
     "output_type": "execute_result"
    }
   ],
   "source": [
    "g.split()"
   ]
  },
  {
   "cell_type": "markdown",
   "id": "00cab39d",
   "metadata": {},
   "source": [
    "#### In the string s3, find whether the digit is present or not using the \\d and search() function:\n",
    "\n",
    "s3 = \"House number- 1105\""
   ]
  },
  {
   "cell_type": "code",
   "execution_count": 37,
   "id": "53424d22",
   "metadata": {},
   "outputs": [
    {
     "name": "stdout",
     "output_type": "stream",
     "text": [
      "Digit found\n"
     ]
    }
   ],
   "source": [
    "s3 = \"House number- 1105\"\n",
    "# Write your code below and press Shift+Enter to execute\n",
    "\n",
    "import re\n",
    "pattern = \"\\d\\d\\d\\d\"\n",
    "\n",
    "find = re.search(pattern, s3)\n",
    "\n",
    "if find:\n",
    "    print(\"Digit found\")\n",
    "else:\n",
    "    print(\"Digit not found.\")"
   ]
  },
  {
   "cell_type": "code",
   "execution_count": 38,
   "id": "849b3555",
   "metadata": {},
   "outputs": [
    {
     "name": "stdout",
     "output_type": "stream",
     "text": [
      "Digit found\n"
     ]
    }
   ],
   "source": [
    "result = re.search(\"\\d\", s3)\n",
    "\n",
    "# Check if a match was found\n",
    "if result:\n",
    "    print(\"Digit found\")\n",
    "else:\n",
    "    print(\"Digit not found.\")"
   ]
  },
  {
   "cell_type": "markdown",
   "id": "7f44f3f7",
   "metadata": {},
   "source": [
    "#### In the string str1, replace the sub-string fox with bear using sub() function:\n",
    "\n",
    "str1= \"The quick brown fox jumps over the lazy dog.\""
   ]
  },
  {
   "cell_type": "code",
   "execution_count": 41,
   "id": "6531115f",
   "metadata": {},
   "outputs": [
    {
     "name": "stdout",
     "output_type": "stream",
     "text": [
      "The quick brown bear jumps over the lazy dog.\n"
     ]
    }
   ],
   "source": [
    "str1= \"The quick brown fox jumps over the lazy dog.\"\n",
    "\n",
    "result = re.sub(r\"fox\", \"bear\", str1)\n",
    "\n",
    "print(result)"
   ]
  },
  {
   "cell_type": "markdown",
   "id": "f7d9c932",
   "metadata": {},
   "source": [
    "#### In the string str2 find all the occurrences of woo using findall() function:\n",
    "    \n",
    "str2= \"How much wood would a woodchuck chuck, if a woodchuck could chuck wood?\""
   ]
  },
  {
   "cell_type": "code",
   "execution_count": 43,
   "id": "f3297b45",
   "metadata": {},
   "outputs": [
    {
     "name": "stdout",
     "output_type": "stream",
     "text": [
      "['woo', 'woo', 'woo', 'woo']\n"
     ]
    }
   ],
   "source": [
    "str2= \"How much wood would a woodchuck chuck, if a woodchuck could chuck wood?\"\n",
    "\n",
    "result = re.findall(r\"woo\", str2)\n",
    "\n",
    "print(result)"
   ]
  }
 ],
 "metadata": {
  "kernelspec": {
   "display_name": "Python 3 (ipykernel)",
   "language": "python",
   "name": "python3"
  },
  "language_info": {
   "codemirror_mode": {
    "name": "ipython",
    "version": 3
   },
   "file_extension": ".py",
   "mimetype": "text/x-python",
   "name": "python",
   "nbconvert_exporter": "python",
   "pygments_lexer": "ipython3",
   "version": "3.9.13"
  }
 },
 "nbformat": 4,
 "nbformat_minor": 5
}
